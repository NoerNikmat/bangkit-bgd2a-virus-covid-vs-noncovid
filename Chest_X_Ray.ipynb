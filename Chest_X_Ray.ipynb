{
  "nbformat": 4,
  "nbformat_minor": 0,
  "metadata": {
    "colab": {
      "name": "Chest X-Ray.ipynb",
      "provenance": [],
      "collapsed_sections": []
    },
    "kernelspec": {
      "name": "python3",
      "display_name": "Python 3"
    },
    "accelerator": "GPU"
  },
  "cells": [
    {
      "cell_type": "markdown",
      "metadata": {
        "id": "1-ieNPuUGLMN",
        "colab_type": "text"
      },
      "source": [
        "**Get COVID-19 data from Github**"
      ]
    },
    {
      "cell_type": "code",
      "metadata": {
        "id": "R1YqiVqmHwOT",
        "colab_type": "code",
        "colab": {
          "base_uri": "https://localhost:8080/",
          "height": 153
        },
        "outputId": "c71c9e20-6eac-4337-b4e6-e4f953f93e49"
      },
      "source": [
        "! git clone https://github.com/ieee8023/covid-chestxray-dataset.git"
      ],
      "execution_count": null,
      "outputs": [
        {
          "output_type": "stream",
          "text": [
            "Cloning into 'covid-chestxray-dataset'...\n",
            "remote: Enumerating objects: 121, done.\u001b[K\n",
            "remote: Counting objects: 100% (121/121), done.\u001b[K\n",
            "remote: Compressing objects: 100% (81/81), done.\u001b[K\n",
            "remote: Total 2966 (delta 65), reused 90 (delta 40), pack-reused 2845\u001b[K\n",
            "Receiving objects: 100% (2966/2966), 563.67 MiB | 15.29 MiB/s, done.\n",
            "Resolving deltas: 100% (1169/1169), done.\n",
            "Checking out files: 100% (890/890), done.\n"
          ],
          "name": "stdout"
        }
      ]
    },
    {
      "cell_type": "markdown",
      "metadata": {
        "id": "Ex0TL_VGW8ap",
        "colab_type": "text"
      },
      "source": [
        "**Get normal chest X-ray data from Kaggle**"
      ]
    },
    {
      "cell_type": "code",
      "metadata": {
        "id": "nPrlS_OhW7Ww",
        "colab_type": "code",
        "colab": {}
      },
      "source": [
        "! pip install -q kaggle"
      ],
      "execution_count": null,
      "outputs": []
    },
    {
      "cell_type": "code",
      "metadata": {
        "id": "QhuivsbvX1LB",
        "colab_type": "code",
        "colab": {
          "resources": {
            "http://localhost:8080/nbextensions/google.colab/files.js": {
              "data": "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",
              "ok": true,
              "headers": [
                [
                  "content-type",
                  "application/javascript"
                ]
              ],
              "status": 200,
              "status_text": ""
            }
          },
          "base_uri": "https://localhost:8080/",
          "height": 91
        },
        "outputId": "cbf5147d-4bf2-43d5-be08-8b0294284e56"
      },
      "source": [
        "# Upload Kaggle API key\n",
        "\n",
        "from google.colab import files\n",
        "files.upload()"
      ],
      "execution_count": null,
      "outputs": [
        {
          "output_type": "display_data",
          "data": {
            "text/html": [
              "\n",
              "     <input type=\"file\" id=\"files-4b2bde65-55ff-4fd9-9cea-692aa3bec694\" name=\"files[]\" multiple disabled />\n",
              "     <output id=\"result-4b2bde65-55ff-4fd9-9cea-692aa3bec694\">\n",
              "      Upload widget is only available when the cell has been executed in the\n",
              "      current browser session. Please rerun this cell to enable.\n",
              "      </output>\n",
              "      <script src=\"/nbextensions/google.colab/files.js\"></script> "
            ],
            "text/plain": [
              "<IPython.core.display.HTML object>"
            ]
          },
          "metadata": {
            "tags": []
          }
        },
        {
          "output_type": "stream",
          "text": [
            "Saving kaggle.json to kaggle.json\n"
          ],
          "name": "stdout"
        },
        {
          "output_type": "execute_result",
          "data": {
            "text/plain": [
              "{'kaggle.json': b'{\"username\":\"gabrieldaely\",\"key\":\"26bf1049d09710bdea490aa8549a8716\"}'}"
            ]
          },
          "metadata": {
            "tags": []
          },
          "execution_count": 4
        }
      ]
    },
    {
      "cell_type": "code",
      "metadata": {
        "id": "FAZB8NcmX7Lm",
        "colab_type": "code",
        "colab": {}
      },
      "source": [
        "! mkdir ~/.kaggle\n",
        "! cp kaggle.json ~/.kaggle/\n",
        "! chmod 600 ~/.kaggle/kaggle.json"
      ],
      "execution_count": null,
      "outputs": []
    },
    {
      "cell_type": "code",
      "metadata": {
        "id": "qv78OaDPYBkH",
        "colab_type": "code",
        "colab": {
          "base_uri": "https://localhost:8080/",
          "height": 68
        },
        "outputId": "3b8b0920-770a-45ba-c1d5-da7c537b0713"
      },
      "source": [
        "! kaggle datasets download -d 'paultimothymooney/chest-xray-pneumonia'"
      ],
      "execution_count": null,
      "outputs": [
        {
          "output_type": "stream",
          "text": [
            "Downloading chest-xray-pneumonia.zip to /content\n",
            "100% 2.28G/2.29G [00:31<00:00, 24.1MB/s]\n",
            "100% 2.29G/2.29G [00:31<00:00, 78.7MB/s]\n"
          ],
          "name": "stdout"
        }
      ]
    },
    {
      "cell_type": "code",
      "metadata": {
        "id": "G1_g0N50YRfG",
        "colab_type": "code",
        "colab": {
          "base_uri": "https://localhost:8080/",
          "height": 34
        },
        "outputId": "ff064523-4e50-4895-a8f5-8721efe6ea2a"
      },
      "source": [
        "! ls"
      ],
      "execution_count": null,
      "outputs": [
        {
          "output_type": "stream",
          "text": [
            "chest-xray-pneumonia.zip  covid-chestxray-dataset  kaggle.json\tsample_data\n"
          ],
          "name": "stdout"
        }
      ]
    },
    {
      "cell_type": "code",
      "metadata": {
        "id": "AlGDcYLSYWbM",
        "colab_type": "code",
        "colab": {}
      },
      "source": [
        "! unzip -q chest-xray-pneumonia.zip"
      ],
      "execution_count": null,
      "outputs": []
    },
    {
      "cell_type": "code",
      "metadata": {
        "id": "zlSncI3DnDsv",
        "colab_type": "code",
        "colab": {}
      },
      "source": [
        "! rm -r chest-xray-pneumonia.zip"
      ],
      "execution_count": null,
      "outputs": []
    },
    {
      "cell_type": "markdown",
      "metadata": {
        "id": "TONZahErX-rT",
        "colab_type": "text"
      },
      "source": [
        "**Data preparation**"
      ]
    },
    {
      "cell_type": "code",
      "metadata": {
        "id": "FwenNYNCXYpC",
        "colab_type": "code",
        "colab": {}
      },
      "source": [
        "import pandas as pd\n",
        "import os\n",
        "import random\n",
        "from shutil import copyfile\n",
        "import tensorflow as tf\n",
        "import keras_preprocessing\n",
        "from keras_preprocessing import image\n",
        "from keras_preprocessing.image import ImageDataGenerator\n",
        "import matplotlib.pyplot as plt"
      ],
      "execution_count": null,
      "outputs": []
    },
    {
      "cell_type": "markdown",
      "metadata": {
        "id": "pbVwEHQ_bwnh",
        "colab_type": "text"
      },
      "source": [
        "COVID-19 data"
      ]
    },
    {
      "cell_type": "code",
      "metadata": {
        "id": "wbYm1bd3JoF1",
        "colab_type": "code",
        "colab": {}
      },
      "source": [
        "metadata = pd.read_csv('./covid-chestxray-dataset/metadata.csv')\n",
        "metadata = metadata[['finding','modality','folder','filename']]"
      ],
      "execution_count": null,
      "outputs": []
    },
    {
      "cell_type": "code",
      "metadata": {
        "id": "q4sMY3AHM91w",
        "colab_type": "code",
        "colab": {
          "base_uri": "https://localhost:8080/",
          "height": 419
        },
        "outputId": "d32fd667-7e5e-4666-dd6c-e8d59e22b304"
      },
      "source": [
        "metadata"
      ],
      "execution_count": null,
      "outputs": [
        {
          "output_type": "execute_result",
          "data": {
            "text/html": [
              "<div>\n",
              "<style scoped>\n",
              "    .dataframe tbody tr th:only-of-type {\n",
              "        vertical-align: middle;\n",
              "    }\n",
              "\n",
              "    .dataframe tbody tr th {\n",
              "        vertical-align: top;\n",
              "    }\n",
              "\n",
              "    .dataframe thead th {\n",
              "        text-align: right;\n",
              "    }\n",
              "</style>\n",
              "<table border=\"1\" class=\"dataframe\">\n",
              "  <thead>\n",
              "    <tr style=\"text-align: right;\">\n",
              "      <th></th>\n",
              "      <th>finding</th>\n",
              "      <th>modality</th>\n",
              "      <th>folder</th>\n",
              "      <th>filename</th>\n",
              "    </tr>\n",
              "  </thead>\n",
              "  <tbody>\n",
              "    <tr>\n",
              "      <th>0</th>\n",
              "      <td>COVID-19</td>\n",
              "      <td>X-ray</td>\n",
              "      <td>images</td>\n",
              "      <td>auntminnie-a-2020_01_28_23_51_6665_2020_01_28_...</td>\n",
              "    </tr>\n",
              "    <tr>\n",
              "      <th>1</th>\n",
              "      <td>COVID-19</td>\n",
              "      <td>X-ray</td>\n",
              "      <td>images</td>\n",
              "      <td>auntminnie-b-2020_01_28_23_51_6665_2020_01_28_...</td>\n",
              "    </tr>\n",
              "    <tr>\n",
              "      <th>2</th>\n",
              "      <td>COVID-19</td>\n",
              "      <td>X-ray</td>\n",
              "      <td>images</td>\n",
              "      <td>auntminnie-c-2020_01_28_23_51_6665_2020_01_28_...</td>\n",
              "    </tr>\n",
              "    <tr>\n",
              "      <th>3</th>\n",
              "      <td>COVID-19</td>\n",
              "      <td>X-ray</td>\n",
              "      <td>images</td>\n",
              "      <td>auntminnie-d-2020_01_28_23_51_6665_2020_01_28_...</td>\n",
              "    </tr>\n",
              "    <tr>\n",
              "      <th>4</th>\n",
              "      <td>COVID-19</td>\n",
              "      <td>X-ray</td>\n",
              "      <td>images</td>\n",
              "      <td>nejmc2001573_f1a.jpeg</td>\n",
              "    </tr>\n",
              "    <tr>\n",
              "      <th>...</th>\n",
              "      <td>...</td>\n",
              "      <td>...</td>\n",
              "      <td>...</td>\n",
              "      <td>...</td>\n",
              "    </tr>\n",
              "    <tr>\n",
              "      <th>668</th>\n",
              "      <td>COVID-19</td>\n",
              "      <td>X-ray</td>\n",
              "      <td>images</td>\n",
              "      <td>covid-19-caso-95-2-16.png</td>\n",
              "    </tr>\n",
              "    <tr>\n",
              "      <th>669</th>\n",
              "      <td>COVID-19</td>\n",
              "      <td>X-ray</td>\n",
              "      <td>images</td>\n",
              "      <td>covid-19-caso-95-3-14.png</td>\n",
              "    </tr>\n",
              "    <tr>\n",
              "      <th>670</th>\n",
              "      <td>COVID-19</td>\n",
              "      <td>X-ray</td>\n",
              "      <td>images</td>\n",
              "      <td>covid-19-caso-95-4-12.png</td>\n",
              "    </tr>\n",
              "    <tr>\n",
              "      <th>671</th>\n",
              "      <td>COVID-19</td>\n",
              "      <td>X-ray</td>\n",
              "      <td>images</td>\n",
              "      <td>covid-19-caso-99-1-19.png</td>\n",
              "    </tr>\n",
              "    <tr>\n",
              "      <th>672</th>\n",
              "      <td>COVID-19</td>\n",
              "      <td>X-ray</td>\n",
              "      <td>images</td>\n",
              "      <td>covid-19-caso-111-1-21.png</td>\n",
              "    </tr>\n",
              "  </tbody>\n",
              "</table>\n",
              "<p>673 rows × 4 columns</p>\n",
              "</div>"
            ],
            "text/plain": [
              "      finding  ...                                           filename\n",
              "0    COVID-19  ...  auntminnie-a-2020_01_28_23_51_6665_2020_01_28_...\n",
              "1    COVID-19  ...  auntminnie-b-2020_01_28_23_51_6665_2020_01_28_...\n",
              "2    COVID-19  ...  auntminnie-c-2020_01_28_23_51_6665_2020_01_28_...\n",
              "3    COVID-19  ...  auntminnie-d-2020_01_28_23_51_6665_2020_01_28_...\n",
              "4    COVID-19  ...                              nejmc2001573_f1a.jpeg\n",
              "..        ...  ...                                                ...\n",
              "668  COVID-19  ...                          covid-19-caso-95-2-16.png\n",
              "669  COVID-19  ...                          covid-19-caso-95-3-14.png\n",
              "670  COVID-19  ...                          covid-19-caso-95-4-12.png\n",
              "671  COVID-19  ...                          covid-19-caso-99-1-19.png\n",
              "672  COVID-19  ...                         covid-19-caso-111-1-21.png\n",
              "\n",
              "[673 rows x 4 columns]"
            ]
          },
          "metadata": {
            "tags": []
          },
          "execution_count": 12
        }
      ]
    },
    {
      "cell_type": "code",
      "metadata": {
        "id": "yoTVyMq4L6UG",
        "colab_type": "code",
        "colab": {}
      },
      "source": [
        "metadata = metadata[metadata['finding'] == 'COVID-19']"
      ],
      "execution_count": null,
      "outputs": []
    },
    {
      "cell_type": "code",
      "metadata": {
        "id": "DoxccYhDM3r7",
        "colab_type": "code",
        "colab": {}
      },
      "source": [
        "metadata = metadata[metadata['modality'] == 'X-ray']"
      ],
      "execution_count": null,
      "outputs": []
    },
    {
      "cell_type": "code",
      "metadata": {
        "id": "1K1B1WTfM_GW",
        "colab_type": "code",
        "colab": {
          "base_uri": "https://localhost:8080/",
          "height": 419
        },
        "outputId": "8869991d-c798-4cde-e116-c1bf2937362e"
      },
      "source": [
        "metadata"
      ],
      "execution_count": null,
      "outputs": [
        {
          "output_type": "execute_result",
          "data": {
            "text/html": [
              "<div>\n",
              "<style scoped>\n",
              "    .dataframe tbody tr th:only-of-type {\n",
              "        vertical-align: middle;\n",
              "    }\n",
              "\n",
              "    .dataframe tbody tr th {\n",
              "        vertical-align: top;\n",
              "    }\n",
              "\n",
              "    .dataframe thead th {\n",
              "        text-align: right;\n",
              "    }\n",
              "</style>\n",
              "<table border=\"1\" class=\"dataframe\">\n",
              "  <thead>\n",
              "    <tr style=\"text-align: right;\">\n",
              "      <th></th>\n",
              "      <th>finding</th>\n",
              "      <th>modality</th>\n",
              "      <th>folder</th>\n",
              "      <th>filename</th>\n",
              "    </tr>\n",
              "  </thead>\n",
              "  <tbody>\n",
              "    <tr>\n",
              "      <th>0</th>\n",
              "      <td>COVID-19</td>\n",
              "      <td>X-ray</td>\n",
              "      <td>images</td>\n",
              "      <td>auntminnie-a-2020_01_28_23_51_6665_2020_01_28_...</td>\n",
              "    </tr>\n",
              "    <tr>\n",
              "      <th>1</th>\n",
              "      <td>COVID-19</td>\n",
              "      <td>X-ray</td>\n",
              "      <td>images</td>\n",
              "      <td>auntminnie-b-2020_01_28_23_51_6665_2020_01_28_...</td>\n",
              "    </tr>\n",
              "    <tr>\n",
              "      <th>2</th>\n",
              "      <td>COVID-19</td>\n",
              "      <td>X-ray</td>\n",
              "      <td>images</td>\n",
              "      <td>auntminnie-c-2020_01_28_23_51_6665_2020_01_28_...</td>\n",
              "    </tr>\n",
              "    <tr>\n",
              "      <th>3</th>\n",
              "      <td>COVID-19</td>\n",
              "      <td>X-ray</td>\n",
              "      <td>images</td>\n",
              "      <td>auntminnie-d-2020_01_28_23_51_6665_2020_01_28_...</td>\n",
              "    </tr>\n",
              "    <tr>\n",
              "      <th>4</th>\n",
              "      <td>COVID-19</td>\n",
              "      <td>X-ray</td>\n",
              "      <td>images</td>\n",
              "      <td>nejmc2001573_f1a.jpeg</td>\n",
              "    </tr>\n",
              "    <tr>\n",
              "      <th>...</th>\n",
              "      <td>...</td>\n",
              "      <td>...</td>\n",
              "      <td>...</td>\n",
              "      <td>...</td>\n",
              "    </tr>\n",
              "    <tr>\n",
              "      <th>668</th>\n",
              "      <td>COVID-19</td>\n",
              "      <td>X-ray</td>\n",
              "      <td>images</td>\n",
              "      <td>covid-19-caso-95-2-16.png</td>\n",
              "    </tr>\n",
              "    <tr>\n",
              "      <th>669</th>\n",
              "      <td>COVID-19</td>\n",
              "      <td>X-ray</td>\n",
              "      <td>images</td>\n",
              "      <td>covid-19-caso-95-3-14.png</td>\n",
              "    </tr>\n",
              "    <tr>\n",
              "      <th>670</th>\n",
              "      <td>COVID-19</td>\n",
              "      <td>X-ray</td>\n",
              "      <td>images</td>\n",
              "      <td>covid-19-caso-95-4-12.png</td>\n",
              "    </tr>\n",
              "    <tr>\n",
              "      <th>671</th>\n",
              "      <td>COVID-19</td>\n",
              "      <td>X-ray</td>\n",
              "      <td>images</td>\n",
              "      <td>covid-19-caso-99-1-19.png</td>\n",
              "    </tr>\n",
              "    <tr>\n",
              "      <th>672</th>\n",
              "      <td>COVID-19</td>\n",
              "      <td>X-ray</td>\n",
              "      <td>images</td>\n",
              "      <td>covid-19-caso-111-1-21.png</td>\n",
              "    </tr>\n",
              "  </tbody>\n",
              "</table>\n",
              "<p>446 rows × 4 columns</p>\n",
              "</div>"
            ],
            "text/plain": [
              "      finding  ...                                           filename\n",
              "0    COVID-19  ...  auntminnie-a-2020_01_28_23_51_6665_2020_01_28_...\n",
              "1    COVID-19  ...  auntminnie-b-2020_01_28_23_51_6665_2020_01_28_...\n",
              "2    COVID-19  ...  auntminnie-c-2020_01_28_23_51_6665_2020_01_28_...\n",
              "3    COVID-19  ...  auntminnie-d-2020_01_28_23_51_6665_2020_01_28_...\n",
              "4    COVID-19  ...                              nejmc2001573_f1a.jpeg\n",
              "..        ...  ...                                                ...\n",
              "668  COVID-19  ...                          covid-19-caso-95-2-16.png\n",
              "669  COVID-19  ...                          covid-19-caso-95-3-14.png\n",
              "670  COVID-19  ...                          covid-19-caso-95-4-12.png\n",
              "671  COVID-19  ...                          covid-19-caso-99-1-19.png\n",
              "672  COVID-19  ...                         covid-19-caso-111-1-21.png\n",
              "\n",
              "[446 rows x 4 columns]"
            ]
          },
          "metadata": {
            "tags": []
          },
          "execution_count": 15
        }
      ]
    },
    {
      "cell_type": "markdown",
      "metadata": {
        "id": "meXDxZ0knPZN",
        "colab_type": "text"
      },
      "source": [
        "Create source folders for each dataset"
      ]
    },
    {
      "cell_type": "code",
      "metadata": {
        "id": "mfIYtE4_QOnb",
        "colab_type": "code",
        "colab": {}
      },
      "source": [
        "COVID_DIR = './covid/'\n",
        "NORMAL_DIR = './normal/'\n",
        "\n",
        "# Create folders for each dataset\n",
        "try:\n",
        "    os.mkdir(COVID_DIR)\n",
        "    os.mkdir(NORMAL_DIR)\n",
        "except OSError:\n",
        "    pass\n",
        "\n",
        "# COVID-19 data\n",
        "for _, row in metadata.iterrows():\n",
        "    copyfile('./covid-chestxray-dataset/' + row['folder'] + '/' + row['filename'],\n",
        "             './covid/' + row['filename'])\n",
        "\n",
        "# Normal data\n",
        "file_list = os.listdir('./chest_xray/train/NORMAL/')\n",
        "file_list = random.sample(file_list,len(file_list))\n",
        "file_list = file_list[:500]\n",
        "for file in file_list:\n",
        "    copyfile('./chest_xray/train/NORMAL/' + file,\n",
        "             './normal/' + file)"
      ],
      "execution_count": null,
      "outputs": []
    },
    {
      "cell_type": "markdown",
      "metadata": {
        "id": "rR_9sdwzhIAX",
        "colab_type": "text"
      },
      "source": [
        "Split data to train and test dataset"
      ]
    },
    {
      "cell_type": "code",
      "metadata": {
        "id": "am-yoJq9hHa8",
        "colab_type": "code",
        "colab": {}
      },
      "source": [
        "MAIN_DIR = './normal-covid/'\n",
        "TRAIN_DIR = './normal-covid/train/'\n",
        "TEST_DIR = './normal-covid/test/'\n",
        "TRAIN_COVID_DIR = './normal-covid/train/covid/'\n",
        "TRAIN_NORMAL_DIR = './normal-covid/train/normal/'\n",
        "TEST_COVID_DIR = './normal-covid/test/covid/'\n",
        "TEST_NORMAL_DIR = './normal-covid/test/normal/'\n",
        "\n",
        "# Create train and test folder for each dataset\n",
        "try:\n",
        "    os.mkdir(MAIN_DIR)\n",
        "    os.mkdir(TRAIN_DIR)\n",
        "    os.mkdir(TEST_DIR)\n",
        "    os.mkdir(TRAIN_COVID_DIR)\n",
        "    os.mkdir(TRAIN_NORMAL_DIR)\n",
        "    os.mkdir(TEST_COVID_DIR)\n",
        "    os.mkdir(TEST_NORMAL_DIR)\n",
        "except OSError:\n",
        "    pass\n",
        "\n",
        "# Define a function to automate dataset splitting\n",
        "def split_data(SOURCE, TRAINING, TESTING, SPLIT_SIZE):\n",
        "    file_list = os.listdir(SOURCE)\n",
        "    file_list = random.sample(file_list,len(file_list))\n",
        "    train_size = round(SPLIT_SIZE * len(file_list))\n",
        "    \n",
        "    for file in file_list[:train_size]:\n",
        "        copyfile(SOURCE + file, TRAINING + file)\n",
        "    for file in file_list[train_size:]:\n",
        "        copyfile(SOURCE + file, TESTING + file)\n",
        "\n",
        "# Split each dataset\n",
        "split_size = 0.9\n",
        "split_data(COVID_DIR, TRAIN_COVID_DIR, TEST_COVID_DIR, split_size)\n",
        "split_data(NORMAL_DIR, TRAIN_NORMAL_DIR, TEST_NORMAL_DIR, split_size)"
      ],
      "execution_count": null,
      "outputs": []
    },
    {
      "cell_type": "code",
      "metadata": {
        "id": "IhEQC2ztmv3r",
        "colab_type": "code",
        "colab": {
          "base_uri": "https://localhost:8080/",
          "height": 85
        },
        "outputId": "dce3b22e-f234-4d3e-8167-331b99e7673b"
      },
      "source": [
        "print(len(os.listdir(TRAIN_COVID_DIR)))\n",
        "print(len(os.listdir(TRAIN_NORMAL_DIR)))\n",
        "print(len(os.listdir(TEST_COVID_DIR)))\n",
        "print(len(os.listdir(TEST_NORMAL_DIR)))"
      ],
      "execution_count": null,
      "outputs": [
        {
          "output_type": "stream",
          "text": [
            "401\n",
            "450\n",
            "45\n",
            "50\n"
          ],
          "name": "stdout"
        }
      ]
    },
    {
      "cell_type": "markdown",
      "metadata": {
        "id": "-bN7F7TyvPWj",
        "colab_type": "text"
      },
      "source": [
        "Create train and validation data generator"
      ]
    },
    {
      "cell_type": "code",
      "metadata": {
        "id": "P8NdAT6IvBaY",
        "colab_type": "code",
        "colab": {
          "base_uri": "https://localhost:8080/",
          "height": 51
        },
        "outputId": "bea8a428-b50a-40cc-ab29-c977c1861f17"
      },
      "source": [
        "# Create train data generator\n",
        "train_datagen = ImageDataGenerator(\n",
        "    rescale = 1./255,\n",
        "    rotation_range=40,\n",
        "    width_shift_range=0.2,\n",
        "    height_shift_range=0.2,\n",
        "    shear_range=0.2,\n",
        "    zoom_range=0.2,\n",
        "    horizontal_flip=True,\n",
        "    fill_mode='nearest')\n",
        "\n",
        "train_generator = train_datagen.flow_from_directory(\n",
        "\tTRAIN_DIR,\n",
        "\ttarget_size=(256,256),\n",
        "\tclass_mode='binary',\n",
        "    batch_size=32\n",
        ")\n",
        "\n",
        "# Create test/validation data generator\n",
        "\n",
        "test_datagen = ImageDataGenerator(rescale = 1./255)\n",
        "\n",
        "test_generator = test_datagen.flow_from_directory(\n",
        "\tTEST_DIR,\n",
        "\ttarget_size=(256,256),\n",
        "\tclass_mode='binary',\n",
        "    batch_size=32\n",
        ")"
      ],
      "execution_count": null,
      "outputs": [
        {
          "output_type": "stream",
          "text": [
            "Found 851 images belonging to 2 classes.\n",
            "Found 95 images belonging to 2 classes.\n"
          ],
          "name": "stdout"
        }
      ]
    },
    {
      "cell_type": "markdown",
      "metadata": {
        "id": "YQjzizZNnkos",
        "colab_type": "text"
      },
      "source": [
        "**Build and train the model**"
      ]
    },
    {
      "cell_type": "code",
      "metadata": {
        "id": "Ql5hELNXIb73",
        "colab_type": "code",
        "colab": {
          "base_uri": "https://localhost:8080/",
          "height": 1000
        },
        "outputId": "7962d0a5-f040-4aaf-ac3d-9502f531c4d0"
      },
      "source": [
        "do = 0.3\n",
        "\n",
        "model = tf.keras.models.Sequential([\n",
        "    tf.keras.layers.Conv2D(32, (3,3), activation='relu', kernel_initializer='he_normal', input_shape=(256, 256, 3)),\n",
        "    tf.keras.layers.Dropout(do),\n",
        "    tf.keras.layers.MaxPooling2D(),\n",
        "    \n",
        "    tf.keras.layers.Conv2D(64, (3,3), activation='relu', kernel_initializer='he_normal'),\n",
        "    tf.keras.layers.Dropout(do),\n",
        "    tf.keras.layers.MaxPooling2D(),\n",
        "    \n",
        "    tf.keras.layers.Conv2D(128, (3,3), activation='relu', kernel_initializer='he_normal'),\n",
        "    tf.keras.layers.Dropout(do),\n",
        "    tf.keras.layers.MaxPooling2D(),\n",
        "    \n",
        "    tf.keras.layers.Conv2D(256, (3,3), activation='relu', kernel_initializer='he_normal'),\n",
        "    tf.keras.layers.Dropout(do),\n",
        "    tf.keras.layers.MaxPooling2D(),\n",
        "    \n",
        "    tf.keras.layers.Flatten(),\n",
        "    tf.keras.layers.Dropout(do),\n",
        "\n",
        "    tf.keras.layers.Dense(1024, activation='relu'),\n",
        "    tf.keras.layers.Dropout(do),\n",
        "    tf.keras.layers.Dense(1024, activation='relu'),\n",
        "    tf.keras.layers.Dropout(do),\n",
        "    tf.keras.layers.Dense(512, activation='relu'),\n",
        "    tf.keras.layers.Dropout(do),\n",
        "    tf.keras.layers.Dense(512, activation='relu'),\n",
        "    tf.keras.layers.Dropout(do),\n",
        "    tf.keras.layers.Dense(256, activation='relu'),\n",
        "    tf.keras.layers.Dropout(do),\n",
        "    \n",
        "    tf.keras.layers.Dense(1, activation='sigmoid')\n",
        "])\n",
        "\n",
        "class myCallback(tf.keras.callbacks.Callback):\n",
        "    def on_epoch_end(self, epoch, logs={}):\n",
        "        if(logs.get('accuracy')>0.95):\n",
        "            if(logs.get('val_accuracy')>0.95):\n",
        "                print(\"\\nReached 95% accuracy. Stopping training!\")\n",
        "                self.model.stop_training = True\n",
        "\n",
        "callbacks = myCallback()\n",
        "\n",
        "model.compile(loss = 'binary_crossentropy', optimizer='adam', metrics=['accuracy'])\n",
        "history = model.fit(train_generator, epochs = 50, \n",
        "                    validation_data = test_generator, callbacks = [callbacks],\n",
        "                    verbose = 1)"
      ],
      "execution_count": null,
      "outputs": [
        {
          "output_type": "stream",
          "text": [
            "Epoch 1/50\n",
            "27/27 [==============================] - 35s 1s/step - loss: 2.8226 - accuracy: 0.5029 - val_loss: 0.6655 - val_accuracy: 0.5263\n",
            "Epoch 2/50\n",
            "27/27 [==============================] - 35s 1s/step - loss: 0.5724 - accuracy: 0.7297 - val_loss: 0.5288 - val_accuracy: 0.8947\n",
            "Epoch 3/50\n",
            "27/27 [==============================] - 35s 1s/step - loss: 0.4618 - accuracy: 0.8120 - val_loss: 0.5394 - val_accuracy: 0.8421\n",
            "Epoch 4/50\n",
            "27/27 [==============================] - 35s 1s/step - loss: 0.5185 - accuracy: 0.8226 - val_loss: 0.5243 - val_accuracy: 0.8632\n",
            "Epoch 5/50\n",
            "27/27 [==============================] - 35s 1s/step - loss: 0.4633 - accuracy: 0.8331 - val_loss: 0.5712 - val_accuracy: 0.7789\n",
            "Epoch 6/50\n",
            "27/27 [==============================] - 35s 1s/step - loss: 0.4119 - accuracy: 0.8778 - val_loss: 0.3278 - val_accuracy: 0.9158\n",
            "Epoch 7/50\n",
            "27/27 [==============================] - 36s 1s/step - loss: 0.3261 - accuracy: 0.8790 - val_loss: 0.3401 - val_accuracy: 0.8947\n",
            "Epoch 8/50\n",
            "27/27 [==============================] - 36s 1s/step - loss: 0.2774 - accuracy: 0.9001 - val_loss: 0.3648 - val_accuracy: 0.8316\n",
            "Epoch 9/50\n",
            "27/27 [==============================] - 36s 1s/step - loss: 0.3535 - accuracy: 0.8719 - val_loss: 0.6585 - val_accuracy: 0.6632\n",
            "Epoch 10/50\n",
            "27/27 [==============================] - 36s 1s/step - loss: 0.3130 - accuracy: 0.8754 - val_loss: 0.4481 - val_accuracy: 0.8316\n",
            "Epoch 11/50\n",
            "27/27 [==============================] - 36s 1s/step - loss: 0.2714 - accuracy: 0.8860 - val_loss: 0.4063 - val_accuracy: 0.8105\n",
            "Epoch 12/50\n",
            "27/27 [==============================] - 35s 1s/step - loss: 0.2304 - accuracy: 0.9095 - val_loss: 0.2596 - val_accuracy: 0.9158\n",
            "Epoch 13/50\n",
            "27/27 [==============================] - 35s 1s/step - loss: 0.2297 - accuracy: 0.9271 - val_loss: 0.1815 - val_accuracy: 0.9368\n",
            "Epoch 14/50\n",
            "27/27 [==============================] - 36s 1s/step - loss: 0.3464 - accuracy: 0.8649 - val_loss: 0.3200 - val_accuracy: 0.8737\n",
            "Epoch 15/50\n",
            "27/27 [==============================] - 36s 1s/step - loss: 0.2734 - accuracy: 0.8884 - val_loss: 0.4675 - val_accuracy: 0.7895\n",
            "Epoch 16/50\n",
            "27/27 [==============================] - 35s 1s/step - loss: 0.3004 - accuracy: 0.8872 - val_loss: 0.5890 - val_accuracy: 0.6632\n",
            "Epoch 17/50\n",
            "27/27 [==============================] - 36s 1s/step - loss: 0.2885 - accuracy: 0.8825 - val_loss: 0.3796 - val_accuracy: 0.8211\n",
            "Epoch 18/50\n",
            "27/27 [==============================] - 35s 1s/step - loss: 0.2486 - accuracy: 0.9060 - val_loss: 0.4126 - val_accuracy: 0.7684\n",
            "Epoch 19/50\n",
            "27/27 [==============================] - 34s 1s/step - loss: 0.2399 - accuracy: 0.9001 - val_loss: 0.3187 - val_accuracy: 0.8632\n",
            "Epoch 20/50\n",
            "27/27 [==============================] - 35s 1s/step - loss: 0.2150 - accuracy: 0.9142 - val_loss: 0.4767 - val_accuracy: 0.7368\n",
            "Epoch 21/50\n",
            "27/27 [==============================] - 36s 1s/step - loss: 0.2013 - accuracy: 0.9271 - val_loss: 0.1650 - val_accuracy: 0.9789\n",
            "Epoch 22/50\n",
            "27/27 [==============================] - 36s 1s/step - loss: 0.2125 - accuracy: 0.9107 - val_loss: 0.1987 - val_accuracy: 0.9579\n",
            "Epoch 23/50\n",
            "27/27 [==============================] - 35s 1s/step - loss: 0.1763 - accuracy: 0.9401 - val_loss: 0.1051 - val_accuracy: 0.9684\n",
            "Epoch 24/50\n",
            "27/27 [==============================] - 36s 1s/step - loss: 0.1586 - accuracy: 0.9377 - val_loss: 0.1626 - val_accuracy: 0.9579\n",
            "Epoch 25/50\n",
            "27/27 [==============================] - 35s 1s/step - loss: 0.1457 - accuracy: 0.9401 - val_loss: 0.2803 - val_accuracy: 0.8947\n",
            "Epoch 26/50\n",
            "27/27 [==============================] - 35s 1s/step - loss: 0.1585 - accuracy: 0.9448 - val_loss: 0.2410 - val_accuracy: 0.9263\n",
            "Epoch 27/50\n",
            "27/27 [==============================] - 35s 1s/step - loss: 0.1660 - accuracy: 0.9295 - val_loss: 0.0908 - val_accuracy: 0.9895\n",
            "Epoch 28/50\n",
            "27/27 [==============================] - 35s 1s/step - loss: 0.1726 - accuracy: 0.9436 - val_loss: 0.0762 - val_accuracy: 0.9789\n",
            "Epoch 29/50\n",
            "27/27 [==============================] - 35s 1s/step - loss: 0.1493 - accuracy: 0.9459 - val_loss: 0.0990 - val_accuracy: 0.9684\n",
            "Epoch 30/50\n",
            "27/27 [==============================] - 35s 1s/step - loss: 0.1554 - accuracy: 0.9506 - val_loss: 0.2671 - val_accuracy: 0.9158\n",
            "Epoch 31/50\n",
            "27/27 [==============================] - 35s 1s/step - loss: 0.1589 - accuracy: 0.9483 - val_loss: 0.0976 - val_accuracy: 0.9579\n",
            "Epoch 32/50\n",
            "27/27 [==============================] - 35s 1s/step - loss: 0.1236 - accuracy: 0.9636 - val_loss: 0.2053 - val_accuracy: 0.9474\n",
            "Epoch 33/50\n",
            "27/27 [==============================] - 35s 1s/step - loss: 0.1263 - accuracy: 0.9589 - val_loss: 0.2047 - val_accuracy: 0.9368\n",
            "Epoch 34/50\n",
            "27/27 [==============================] - 35s 1s/step - loss: 0.1554 - accuracy: 0.9389 - val_loss: 0.1411 - val_accuracy: 0.9684\n",
            "Epoch 35/50\n",
            "27/27 [==============================] - ETA: 0s - loss: 0.1324 - accuracy: 0.9553\n",
            "Reached 95% accuracy. Stopping training!\n",
            "27/27 [==============================] - 35s 1s/step - loss: 0.1324 - accuracy: 0.9553 - val_loss: 0.0801 - val_accuracy: 0.9789\n"
          ],
          "name": "stdout"
        }
      ]
    },
    {
      "cell_type": "code",
      "metadata": {
        "id": "TT0-Ml3_MmxV",
        "colab_type": "code",
        "colab": {
          "base_uri": "https://localhost:8080/",
          "height": 545
        },
        "outputId": "3fc85b35-97b5-4dc3-9ba0-95fcfe7f7e7f"
      },
      "source": [
        "acc = history.history['accuracy']\n",
        "val_acc = history.history['val_accuracy']\n",
        "loss = history.history['loss']\n",
        "val_loss = history.history['val_loss']\n",
        "\n",
        "epochs = range(len(acc))\n",
        "\n",
        "plt.plot(epochs, acc, 'r', label='Training accuracy')\n",
        "plt.plot(epochs, val_acc, 'b', label='Validation accuracy')\n",
        "plt.title('Training and validation accuracy')\n",
        "\n",
        "plt.figure()\n",
        "\n",
        "plt.plot(epochs, loss, 'r', label='Training Loss')\n",
        "plt.plot(epochs, val_loss, 'b', label='Validation Loss')\n",
        "plt.ylim(0,2)\n",
        "plt.title('Training and validation loss')\n",
        "plt.legend()\n",
        "\n",
        "plt.show()"
      ],
      "execution_count": null,
      "outputs": [
        {
          "output_type": "display_data",
          "data": {
            "image/png": "[encoded data removed]",
            "text/plain": [
              "<Figure size 432x288 with 1 Axes>"
            ]
          },
          "metadata": {
            "tags": [],
            "needs_background": "light"
          }
        },
        {
          "output_type": "display_data",
          "data": {
            "image/png": "[encoded data removed]",
            "text/plain": [
              "<Figure size 432x288 with 1 Axes>"
            ]
          },
          "metadata": {
            "tags": [],
            "needs_background": "light"
          }
        }
      ]
    },
    {
      "cell_type": "markdown",
      "metadata": {
        "id": "gkfL-je7sPCu",
        "colab_type": "text"
      },
      "source": [
        "**Save model**"
      ]
    },
    {
      "cell_type": "code",
      "metadata": {
        "id": "muvG7lE5etuA",
        "colab_type": "code",
        "colab": {}
      },
      "source": [
        "model.save('normal_covid_model95.h5')"
      ],
      "execution_count": null,
      "outputs": []
    }
  ]
}